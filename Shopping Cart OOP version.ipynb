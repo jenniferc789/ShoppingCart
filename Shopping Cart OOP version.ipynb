{
 "cells": [
  {
   "cell_type": "code",
   "execution_count": null,
   "metadata": {},
   "outputs": [],
   "source": [
    "class cart:\n",
    "    def __init__(self, items=[], total=0):\n",
    "        self.items = items\n",
    "        self.total = total\n",
    "    \n",
    "    def additem(self, item):\n",
    "        self.items.append(item)\n",
    "    \n",
    "    def addprice(self, price):\n",
    "        self.total += price\n",
    "        \n",
    "    def deleteitem(self, item, price):\n",
    "        self.items.remove(item)\n",
    "        self.total -= price\n",
    "        \n",
    "    def show(self):\n",
    "        nodup=set(self.items)\n",
    "        for items in nodup:\n",
    "            print(f'{items}, [{self.items.count(items)}]')\n",
    "        print(f'${self.total:,.2f}')"
   ]
  },
  {
   "cell_type": "code",
   "execution_count": null,
   "metadata": {},
   "outputs": [],
   "source": [
    "cart_1=cart()\n",
    "\n",
    "while True:\n",
    "    prompt=input(\"\"\"\n",
    "    what would you like to do to your cart?\n",
    "    enter 'add' to add an item to your cart\n",
    "    enter 'delete' to delete an item from your cart\n",
    "    enter 'show' to see what's in your cart\n",
    "    enter 'checkout' to checkout \"\"\")  \n",
    "    if prompt=='add':\n",
    "        add=input(\"what would you like to add to your cart? \")\n",
    "        cart_1.additem(add)\n",
    "        addp=input(\"what is the price of an item? \")\n",
    "        cart_1.addprice(float(addp))\n",
    "        continue\n",
    "    elif prompt=='delete':\n",
    "        cart_1.show()\n",
    "        delete=input(\"what would you like to delete from your cart? \")\n",
    "        delprice=input(\"what is the price of the item? \")\n",
    "        cart_1.deleteitem(delete, float(delprice))\n",
    "        continue\n",
    "    elif prompt=='show':\n",
    "        cart_1.show()\n",
    "        continue\n",
    "    elif prompt=='checkout':\n",
    "        cart_1.show()\n",
    "        break\n",
    "    else:\n",
    "        continue"
   ]
  },
  {
   "cell_type": "code",
   "execution_count": null,
   "metadata": {},
   "outputs": [],
   "source": []
  }
 ],
 "metadata": {
  "kernelspec": {
   "display_name": "Python 3",
   "language": "python",
   "name": "python3"
  },
  "language_info": {
   "codemirror_mode": {
    "name": "ipython",
    "version": 3
   },
   "file_extension": ".py",
   "mimetype": "text/x-python",
   "name": "python",
   "nbconvert_exporter": "python",
   "pygments_lexer": "ipython3",
   "version": "3.8.3"
  }
 },
 "nbformat": 4,
 "nbformat_minor": 4
}
